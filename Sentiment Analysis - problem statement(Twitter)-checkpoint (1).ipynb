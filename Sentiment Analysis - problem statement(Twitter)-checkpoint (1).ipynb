{
 "cells": [
  {
   "cell_type": "markdown",
   "metadata": {},
   "source": [
    "### <span style = 'color:green'> Capstone Project </span>\n",
    "#### <span style = 'color:blue'> Problem statement : Perform sentiment analysis on Omnicron variant, data fetching directly from twitter</span>\n",
    "**Sentiment analysis is the process of identifying feelings and emotions expressed in words, through ML or AI**\n",
    "\n",
    "**Project Pipeline**\n",
    "\n",
    "Various steps in completing project are\n",
    "\n",
    "- **Import Necessary Dependencies**\n",
    "- **Read and Load the Dataset**\n",
    "- **Exploratory Data Analysis**\n",
    "- **Data Visualization of Target Variables**\n",
    "- **Data Preprocessing**\n",
    "- **Splitting our data into Train and Test Subset**\n",
    "- **Transforming Dataset using TF-IDF Vectorizer**\n",
    "- **Function for Model Evaluation**\n",
    "- **Model Building**\n",
    "- **Conclusion**\n",
    "\n",
    "- Here we have to get dataset directly fetched from twitter in realtime \n",
    "\n",
    "- performing realtime sentimental analysis on realtime data collecting from twitter\n",
    "- objective: perform sentiment analysis on realtime data collected from twitter \n",
    "\n",
    "                      \n",
    "\n",
    "           "
   ]
  },
  {
   "cell_type": "markdown",
   "metadata": {},
   "source": [
    "### <span style = 'color:blue'>   API (Application Programm Interface)</span>\n",
    "- Imagine you’re sitting at a table in a restaurant with a menu of choices to order from. The kitchen is the part of the “system” that will prepare your order. What is missing is the critical link to communicate your order to the kitchen and deliver your food back to your table. That’s where the waiter or API comes in. The waiter is the messenger – or API – that takes your request or order and tells the kitchen – the system – what to do. Then the waiter delivers the response back to you; in this case, it is the food.\n",
    "- API's are huge and are used everywhere\n",
    "- In simple words api stands as bridge for one to access the content in one's storage \n",
    "- There are many APIs on the Twitter platform that software developers can engage with, with the ultimate possibility to create fully automated systems which will interact with Twitter. While this feature could benefit companies by drawing insights from Twitter data\n",
    "\n",
    "   **From twitter api it's possible to extract many insights some are**\n",
    "- Tweets: searching, posting, filtering, engagement, streaming etc.\n",
    "- Accounts and users (Beta): account management, user interactions.\n",
    "- Media: uploading and accessing photos, videos and animated GIFs.\n",
    "- Trends: trending topics in a given location.\n",
    "- Geo: information about known places or places near a location."
   ]
  },
  {
   "cell_type": "markdown",
   "metadata": {},
   "source": [
    "**Getting twitter API keys**\n",
    "- If you don't already have an account, you can login with your normal Twitter credentials \n",
    "\n",
    "\n",
    "- follow the required prompts to create a developer project or click here <a href=\"https://dev.twitter.com/apps\" title=\"Twitter\">Click here</a>\n",
    "- Requesting the API key and secret via the Developer Portal causes Twitter to produce the following three things:\n",
    "1. API key (this is your 'consumer key')\n",
    "2. API secret key (this is your 'consumer secret')\n",
    "3. Bearer token\n",
    "- Next, visit the 'Authentication Tokens' area of the Developer Portal and generate an 'Access token & secret'. This will provide you with the following two items:\n",
    "1. Access token (this is your 'token key')\n",
    "2. Access token secret (this is your 'token secret')\n",
    "\n",
    "\n",
    "**Expected output**\n",
    "- the data fetched from twitter should undergo EDA for analyzing, cleaning, handling, manupulation, visualization..,etc\n",
    "- final output should show the sentiment of the data\n"
   ]
  },
  {
   "cell_type": "markdown",
   "metadata": {},
   "source": [
    "  *Some tips to consider*\n",
    "\n",
    "- Machines can learn in every possible way so its always better to think out of the box\n",
    "    \n",
    "- Perform eda as diverse as possible and in contineous manner\n",
    "    \n",
    "- Try configuring with diffrent models to know how each model is diffrent with other ones \n",
    "    \n",
    "- Donot try to involve unneccesory codes and useless algorithms for dataset which just increases complexity\n",
    "    \n",
    "- Approaching problem statement in n number of ways helps us to find best one possible\n",
    "    \n",
    "- It's easier for one to understnd and manupulate if we have models as simple as possible \n",
    "    \n",
    "- When we have multiple models we can have multiple judgements based on models and their efficiencies\n",
    "    \n",
    "- Tuning helps increasing accuracy :)\n",
    "    \n",
    "- Have an idea of time consumed by the model, its better to have a model whose time management is good\n",
    "    \n",
    "- Spend good amount of time on analyzing dataset and draw as much insights as possible"
   ]
  },
  {
   "cell_type": "markdown",
   "metadata": {},
   "source": [
    "- Tweepy is importantlibrary we will using to fetch data from twitter by api\n",
    "\n",
    "\n",
    "For more on tweepy documentation please click here <a href=\"https://docs.tweepy.org/en/stable/getting_started.html#hello-tweepy\" title=\"Tweepy\">Click here</a>"
   ]
  },
  {
   "cell_type": "code",
   "execution_count": null,
   "metadata": {},
   "outputs": [],
   "source": []
  }
 ],
 "metadata": {
  "kernelspec": {
   "display_name": "Python 3",
   "language": "python",
   "name": "python3"
  },
  "language_info": {
   "codemirror_mode": {
    "name": "ipython",
    "version": 3
   },
   "file_extension": ".py",
   "mimetype": "text/x-python",
   "name": "python",
   "nbconvert_exporter": "python",
   "pygments_lexer": "ipython3",
   "version": "3.8.5"
  }
 },
 "nbformat": 4,
 "nbformat_minor": 4
}
